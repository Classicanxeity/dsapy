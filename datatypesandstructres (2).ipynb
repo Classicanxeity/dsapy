{
  "nbformat": 4,
  "nbformat_minor": 0,
  "metadata": {
    "colab": {
      "provenance": []
    },
    "kernelspec": {
      "name": "python3",
      "display_name": "Python 3"
    },
    "language_info": {
      "name": "python"
    }
  },
  "cells": [
    {
      "cell_type": "code",
      "execution_count": null,
      "metadata": {
        "id": "cBJ9Yuze87Vo"
      },
      "outputs": [],
      "source": []
    },
    {
      "cell_type": "markdown",
      "source": [
        "1. What are data structures, and why are they important?\n",
        "\n",
        "->data structure is a way of organizing, storing, and managing data so that it can be accessed and modified efficiently.\n",
        "\n",
        "2.   Explain the difference between mutable and immutable data types with examples.\n",
        "\n",
        "-> mutable measn the data structres that can be changed or changed can be brought and immutable means the data sctructres which cannot be changed.\n",
        "examples:=list and dictionary are mutable ds\n",
        "string and tuples are immutable ds\n",
        "\n",
        "3. What are the main differences between lists and tuples in Python?\n",
        "\n",
        "-> list are mutable and tuples are immutable list are shown by []\n",
        "and tuples are shown by ()\n",
        "\n",
        "4. P Describe how dictionaries store data.\n",
        "\n",
        "->A dictionary stores data as key-value pairs, like a real dictionary where a word (key) maps to a meaning (value)\n",
        "\n",
        "5. Why might you use a set instead of a list in Python?\n",
        "\n",
        "--> because while we use set instead of list in python becuase set can automatically removes duplicates it use ful when we store important data or unique data.\n",
        "\n",
        "6.  What is a string in Python, and how is it different from a list?\n",
        "\n",
        "--> A string in Python is a sequence of characters enclosed in single quotes ' ', double quotes \" \", and list are mutable data structure and strings are immutable ds.\n",
        "\n",
        "7.  How do tuples ensure data integrity in Python?\n",
        "\n",
        "--> they are immutable and protects data from modification which is goodfor data stroing.\n",
        "\n",
        "8. What is a hash table, and how does it relate to dictionaries in Python?\n",
        "\n",
        "-->A hash table is a data structure that stores key-value pairs using a hash function to quickly locate values based on keys.a dictionary is implemented using a hash table, which allows fast lookups, insertions, and deletions.\n",
        "\n",
        "9. Can lists contain different data types in Python?\n",
        "\n",
        "-->lists can contain elements of different data types.\n",
        "\n",
        "\n",
        "10. Explain why strings are immutable in Python?\n",
        "\n",
        "--> Strings in Python are immutable to ensure memory efficiency , safe usage as dictionary keys/ set elements, and reliability by preventing accidental changes.\n",
        "\n",
        "11. What advantages do dictionaries offer over lists for certain tasks?\n",
        "\n",
        "--> Dictionaries let you store data as key–value pairs, so you can access values directly by a key instead of searching through indexes.\n",
        "\n",
        "12. Describe a scenario where using a tuple would be preferable over a list?\n",
        "\n",
        "--> in geographic coordinates we dont wat to mess up storing data od coordinates so we use tuples.\n",
        "\n",
        "13. How do sets handle duplicate values in Python?\n",
        "\n",
        "--> Sets in Python automatically remove duplicates, so if you try to add the same value multiple times, only one copy will be stored.\n",
        "\n",
        "14.  How does the “in” keyword work differently for lists and dictionaries?\n",
        "\n",
        "-->In lists: checks if a value exists.\n",
        "In dictionaries: checks if a key exists.\n",
        "\n",
        "15. Can you modify the elements of a tuple? Explain why or why not?\n",
        "\n",
        "-->No, tuples are immutable, so their elements cannot be changed.\n",
        "t = (1,2,3); t[0]=5 → Error\n",
        "\n",
        "16. What is a nested dictionary, and give an example of its use case?\n",
        "\n",
        "--> A dictionary inside another dictionary. Used for structured data.\n",
        "\n",
        "students = {\"101\":{\"name\":\"Raj\",\"age\":20}}\n",
        "\n",
        "17. Describe the time complexity of accessing elements in a dictionary?\n",
        "\n",
        "-->Accessing by key is on average O(1) because of hashing.\n",
        "\n",
        "18. In what situations are lists preferred over dictionaries?\n",
        "\n",
        "-->When order matters or you just need values without unique keys.\n",
        "\n",
        "19. Why are dictionaries considered unordered, and how does that affect data retrieval?\n",
        "\n",
        "-->THEY DOT KEEP ORDER AND RETIEVAL IS ONLY BY KEYS NOT BY POSITION.\n",
        "\n",
        "20. Explain the difference between a list and a dictionary in terms of data retrieval.\n",
        "\n",
        "--> List: retrieve by index → nums[0].\n",
        "\n",
        "Dictionary: retrieve by key → person[\"name\"]."
      ],
      "metadata": {
        "id": "hnqNZlolH9sI"
      }
    },
    {
      "cell_type": "code",
      "source": [
        "#1.  Write a code to create a string with your name and print it?\n",
        "name = \"Prem Shinde\"\n",
        "print(name)\n"
      ],
      "metadata": {
        "colab": {
          "base_uri": "https://localhost:8080/"
        },
        "id": "_DgT53DERhmP",
        "outputId": "ddaa4341-aa84-4e50-ee6d-87bc231f883b"
      },
      "execution_count": null,
      "outputs": [
        {
          "output_type": "stream",
          "name": "stdout",
          "text": [
            "Prem Shinde\n"
          ]
        }
      ]
    },
    {
      "cell_type": "code",
      "source": [
        "#2. Write a code to find the length of the string \"Hello World\".\n",
        "text = \"Hello World\"\n",
        "print(len(text))\n"
      ],
      "metadata": {
        "colab": {
          "base_uri": "https://localhost:8080/"
        },
        "id": "k1-09wq0R4e1",
        "outputId": "74aa441f-a9cc-4cf9-b294-1f3172c5ff87"
      },
      "execution_count": null,
      "outputs": [
        {
          "output_type": "stream",
          "name": "stdout",
          "text": [
            "11\n"
          ]
        }
      ]
    },
    {
      "cell_type": "code",
      "source": [
        "#3. Write a code to slice the first 3 characters from the string \"Python Programming\".\n",
        "s = \"Python Programming\"\n",
        "print(s[:3])\n",
        "\n"
      ],
      "metadata": {
        "colab": {
          "base_uri": "https://localhost:8080/"
        },
        "id": "3EN3a6wyR4uz",
        "outputId": "be5af626-284a-46a3-f27f-b7e0c4b79287"
      },
      "execution_count": null,
      "outputs": [
        {
          "output_type": "stream",
          "name": "stdout",
          "text": [
            "Pyt\n"
          ]
        }
      ]
    },
    {
      "cell_type": "code",
      "source": [
        "#4. Write a code to convert the string \"hello\" to uppercase.\n",
        "s = \"hello\"\n",
        "print(s.upper())\n"
      ],
      "metadata": {
        "colab": {
          "base_uri": "https://localhost:8080/"
        },
        "id": "5yThJJJ9R45F",
        "outputId": "c88b1c44-8df7-4fcd-8397-f920591eb36e"
      },
      "execution_count": null,
      "outputs": [
        {
          "output_type": "stream",
          "name": "stdout",
          "text": [
            "HELLO\n"
          ]
        }
      ]
    },
    {
      "cell_type": "code",
      "source": [
        "#5.Write a code to replace the word \"apple\" with \"orange\" in the string \"I like apple.\n",
        "s = \"I like apple\"\n",
        "print(s.replace(\"apple\", \"orange\"))\n"
      ],
      "metadata": {
        "colab": {
          "base_uri": "https://localhost:8080/"
        },
        "id": "EykLImm8R5Cl",
        "outputId": "deaaef96-ab52-4118-b1c8-e17b36ba0056"
      },
      "execution_count": null,
      "outputs": [
        {
          "output_type": "stream",
          "name": "stdout",
          "text": [
            "I like orange\n"
          ]
        }
      ]
    },
    {
      "cell_type": "code",
      "source": [
        "#6. Write a code to create a list with numbers 1 to 5 and print it\n",
        "nums = [1, 2, 3, 4, 5]\n",
        "print(nums)\n"
      ],
      "metadata": {
        "colab": {
          "base_uri": "https://localhost:8080/"
        },
        "id": "QjTLWW3oR5Ka",
        "outputId": "5f1a1a4b-0329-4af4-d19f-b12e757a339d"
      },
      "execution_count": null,
      "outputs": [
        {
          "output_type": "stream",
          "name": "stdout",
          "text": [
            "[1, 2, 3, 4, 5]\n"
          ]
        }
      ]
    },
    {
      "cell_type": "code",
      "source": [
        "#7.  Write a code to append the number 10 to the list [1, 2, 3, 4]\n",
        "nums = [1, 2, 3, 4]\n",
        "nums.append(10)\n",
        "print(nums)\n"
      ],
      "metadata": {
        "colab": {
          "base_uri": "https://localhost:8080/"
        },
        "id": "9eBT8W8LR5VE",
        "outputId": "10fdcd95-482a-4348-e70b-210fd3199c46"
      },
      "execution_count": null,
      "outputs": [
        {
          "output_type": "stream",
          "name": "stdout",
          "text": [
            "[1, 2, 3, 4, 10]\n"
          ]
        }
      ]
    },
    {
      "cell_type": "code",
      "source": [
        "#8. Write a code to remove the number 3 from the list [1, 2, 3, 4, 5]\n",
        "nums = [1, 2, 3, 4, 5]\n",
        "nums.remove(3)\n",
        "print(nums)\n"
      ],
      "metadata": {
        "colab": {
          "base_uri": "https://localhost:8080/"
        },
        "id": "g197I9LVR5g9",
        "outputId": "72039394-a152-4582-bc26-da64d5813630"
      },
      "execution_count": null,
      "outputs": [
        {
          "output_type": "stream",
          "name": "stdout",
          "text": [
            "[1, 2, 4, 5]\n"
          ]
        }
      ]
    },
    {
      "cell_type": "code",
      "source": [
        "#9. Write a code to access the second element in the list ['a', 'b', 'c', 'd']\n",
        "letters = ['a', 'b', 'c', 'd']\n",
        "print(letters[1])\n"
      ],
      "metadata": {
        "colab": {
          "base_uri": "https://localhost:8080/"
        },
        "id": "YBjJ81uLR5qU",
        "outputId": "ef82550b-cc19-496e-ab1c-d843a4e6dd36"
      },
      "execution_count": null,
      "outputs": [
        {
          "output_type": "stream",
          "name": "stdout",
          "text": [
            "b\n"
          ]
        }
      ]
    },
    {
      "cell_type": "code",
      "source": [
        "#10. Write a code to reverse the list [10, 20, 30, 40, 50]\n",
        "nums = [10, 20, 30, 40, 50]\n",
        "nums.reverse()\n",
        "print(nums)\n"
      ],
      "metadata": {
        "colab": {
          "base_uri": "https://localhost:8080/"
        },
        "id": "Ka_ZCjC4SVVC",
        "outputId": "dcf4ccdc-a2db-40d2-cc52-fdf1e5c466e7"
      },
      "execution_count": null,
      "outputs": [
        {
          "output_type": "stream",
          "name": "stdout",
          "text": [
            "[50, 40, 30, 20, 10]\n"
          ]
        }
      ]
    }
  ]
}